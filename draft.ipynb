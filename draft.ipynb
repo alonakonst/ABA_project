{
 "cells": [
  {
   "cell_type": "code",
   "execution_count": 1,
   "id": "b8a76020",
   "metadata": {
    "ExecuteTime": {
     "end_time": "2024-03-10T14:06:58.422707900Z",
     "start_time": "2024-03-10T14:06:57.225636200Z"
    }
   },
   "outputs": [
    {
     "name": "stderr",
     "output_type": "stream",
     "text": [
      "C:\\Users\\alyon\\AppData\\Local\\Temp\\ipykernel_11684\\1792291873.py:1: DeprecationWarning: \n",
      "Pyarrow will become a required dependency of pandas in the next major release of pandas (pandas 3.0),\n",
      "(to allow more performant data types, such as the Arrow string type, and better interoperability with other libraries)\n",
      "but was not found to be installed on your system.\n",
      "If this would cause problems for you,\n",
      "please provide us feedback at https://github.com/pandas-dev/pandas/issues/54466\n",
      "        \n",
      "  import pandas as pd\n"
     ]
    }
   ],
   "source": [
    "import pandas as pd\n",
    "import math"
   ]
  },
  {
   "cell_type": "code",
   "execution_count": 2,
   "id": "47a61fdc",
   "metadata": {
    "ExecuteTime": {
     "end_time": "2024-03-10T14:07:28.968742300Z",
     "start_time": "2024-03-10T14:07:28.889522200Z"
    }
   },
   "outputs": [
    {
     "data": {
      "text/plain": "<bound method NDFrame.head of      latitude  longitude  brightness  scan  track    acq_date  acq_time  \\\n0     37.5064    22.4181       314.2   1.1    1.0  2018-01-01      1131   \n1     37.6455    22.6504       304.9   1.1    1.0  2018-01-01      1131   \n2     40.5884    22.6941       305.8   1.2    1.1  2018-01-03       940   \n3     39.7321    22.4546       300.1   1.2    1.1  2018-01-03       940   \n4     40.5412    22.6241       304.8   1.1    1.1  2018-01-03       940   \n..        ...        ...         ...   ...    ...         ...       ...   \n834   40.5551    22.6240       333.7   2.1    1.4  2018-12-29      1209   \n835   40.5423    22.6256       330.0   2.1    1.4  2018-12-29      1209   \n836   40.6671    22.7528       308.4   2.2    1.4  2018-12-29      1209   \n837   40.6141    22.7122       305.4   2.2    1.4  2018-12-29      1209   \n838   40.5423    22.6178       328.5   2.1    1.4  2018-12-29      1209   \n\n    satellite instrument  confidence  version  bright_t31   frp daynight  type  \n0        Aqua      MODIS          75     6.03       286.5  15.6        D     0  \n1        Aqua      MODIS          60     6.03       288.6   8.0        D     0  \n2       Terra      MODIS          43     6.03       283.6   9.3        D     0  \n3       Terra      MODIS          28     6.03       285.0   6.1        D     0  \n4       Terra      MODIS          60     6.03       284.0   9.6        D     0  \n..        ...        ...         ...      ...         ...   ...      ...   ...  \n834      Aqua      MODIS          54     6.03       285.9  94.8        D     0  \n835      Aqua      MODIS          43     6.03       285.2  81.0        D     0  \n836      Aqua      MODIS          67     6.03       284.8  30.3        D     0  \n837      Aqua      MODIS          14     6.03       284.0  20.2        D     0  \n838      Aqua      MODIS          78     6.03       285.0  79.8        D     0  \n\n[839 rows x 15 columns]>"
     },
     "execution_count": 2,
     "metadata": {},
     "output_type": "execute_result"
    }
   ],
   "source": [
    "df_18 = pd.read_csv('Data/modis_2018_Greece.csv')\n",
    "df_18.head"
   ]
  },
  {
   "cell_type": "code",
   "execution_count": 3,
   "id": "9c40eb39",
   "metadata": {
    "ExecuteTime": {
     "end_time": "2024-03-10T14:07:34.421215600Z",
     "start_time": "2024-03-10T14:07:34.389710700Z"
    }
   },
   "outputs": [
    {
     "data": {
      "text/plain": "(1034, 15)"
     },
     "execution_count": 3,
     "metadata": {},
     "output_type": "execute_result"
    }
   ],
   "source": [
    "df_19 = pd.read_csv('Data/modis_2019_Greece.csv')\n",
    "df_19.shape"
   ]
  },
  {
   "cell_type": "code",
   "execution_count": 4,
   "id": "24d1406c",
   "metadata": {
    "ExecuteTime": {
     "end_time": "2024-03-10T14:07:37.868711600Z",
     "start_time": "2024-03-10T14:07:37.789531900Z"
    }
   },
   "outputs": [
    {
     "data": {
      "text/plain": "(1153, 15)"
     },
     "execution_count": 4,
     "metadata": {},
     "output_type": "execute_result"
    }
   ],
   "source": [
    "df_20 = pd.read_csv('Data/modis_2020_Greece.csv')\n",
    "df_20.shape"
   ]
  },
  {
   "cell_type": "code",
   "execution_count": 8,
   "id": "5ee6b3b8",
   "metadata": {},
   "outputs": [
    {
     "data": {
      "text/plain": [
       "(2481, 15)"
      ]
     },
     "execution_count": 8,
     "metadata": {},
     "output_type": "execute_result"
    }
   ],
   "source": [
    "df_21 = pd.read_csv('Data/modis_2021_Greece.csv')\n",
    "df_21.shape"
   ]
  },
  {
   "cell_type": "code",
   "execution_count": 10,
   "id": "08f94ed4",
   "metadata": {},
   "outputs": [
    {
     "data": {
      "text/html": [
       "<div>\n",
       "<style scoped>\n",
       "    .dataframe tbody tr th:only-of-type {\n",
       "        vertical-align: middle;\n",
       "    }\n",
       "\n",
       "    .dataframe tbody tr th {\n",
       "        vertical-align: top;\n",
       "    }\n",
       "\n",
       "    .dataframe thead th {\n",
       "        text-align: right;\n",
       "    }\n",
       "</style>\n",
       "<table border=\"1\" class=\"dataframe\">\n",
       "  <thead>\n",
       "    <tr style=\"text-align: right;\">\n",
       "      <th></th>\n",
       "      <th>latitude</th>\n",
       "      <th>longitude</th>\n",
       "      <th>brightness</th>\n",
       "      <th>scan</th>\n",
       "      <th>track</th>\n",
       "      <th>acq_date</th>\n",
       "      <th>acq_time</th>\n",
       "      <th>satellite</th>\n",
       "      <th>instrument</th>\n",
       "      <th>confidence</th>\n",
       "      <th>version</th>\n",
       "      <th>bright_t31</th>\n",
       "      <th>frp</th>\n",
       "      <th>daynight</th>\n",
       "      <th>type</th>\n",
       "    </tr>\n",
       "  </thead>\n",
       "  <tbody>\n",
       "    <tr>\n",
       "      <th>0</th>\n",
       "      <td>40.4597</td>\n",
       "      <td>21.2015</td>\n",
       "      <td>302.7</td>\n",
       "      <td>1.7</td>\n",
       "      <td>1.3</td>\n",
       "      <td>2022-01-03</td>\n",
       "      <td>952</td>\n",
       "      <td>Terra</td>\n",
       "      <td>MODIS</td>\n",
       "      <td>53</td>\n",
       "      <td>6.03</td>\n",
       "      <td>284.7</td>\n",
       "      <td>14.6</td>\n",
       "      <td>D</td>\n",
       "      <td>0</td>\n",
       "    </tr>\n",
       "    <tr>\n",
       "      <th>1</th>\n",
       "      <td>38.2790</td>\n",
       "      <td>23.4749</td>\n",
       "      <td>302.5</td>\n",
       "      <td>1.0</td>\n",
       "      <td>1.0</td>\n",
       "      <td>2022-01-03</td>\n",
       "      <td>1138</td>\n",
       "      <td>Aqua</td>\n",
       "      <td>MODIS</td>\n",
       "      <td>53</td>\n",
       "      <td>6.03</td>\n",
       "      <td>288.9</td>\n",
       "      <td>5.7</td>\n",
       "      <td>D</td>\n",
       "      <td>0</td>\n",
       "    </tr>\n",
       "    <tr>\n",
       "      <th>2</th>\n",
       "      <td>41.0305</td>\n",
       "      <td>23.3991</td>\n",
       "      <td>303.4</td>\n",
       "      <td>1.0</td>\n",
       "      <td>1.0</td>\n",
       "      <td>2022-01-03</td>\n",
       "      <td>1139</td>\n",
       "      <td>Aqua</td>\n",
       "      <td>MODIS</td>\n",
       "      <td>56</td>\n",
       "      <td>6.03</td>\n",
       "      <td>286.5</td>\n",
       "      <td>6.8</td>\n",
       "      <td>D</td>\n",
       "      <td>0</td>\n",
       "    </tr>\n",
       "    <tr>\n",
       "      <th>3</th>\n",
       "      <td>39.2542</td>\n",
       "      <td>20.5518</td>\n",
       "      <td>300.5</td>\n",
       "      <td>1.1</td>\n",
       "      <td>1.0</td>\n",
       "      <td>2022-01-03</td>\n",
       "      <td>1139</td>\n",
       "      <td>Aqua</td>\n",
       "      <td>MODIS</td>\n",
       "      <td>37</td>\n",
       "      <td>6.03</td>\n",
       "      <td>288.6</td>\n",
       "      <td>4.5</td>\n",
       "      <td>D</td>\n",
       "      <td>0</td>\n",
       "    </tr>\n",
       "    <tr>\n",
       "      <th>4</th>\n",
       "      <td>41.0996</td>\n",
       "      <td>23.3581</td>\n",
       "      <td>302.2</td>\n",
       "      <td>1.0</td>\n",
       "      <td>1.0</td>\n",
       "      <td>2022-01-03</td>\n",
       "      <td>1139</td>\n",
       "      <td>Aqua</td>\n",
       "      <td>MODIS</td>\n",
       "      <td>38</td>\n",
       "      <td>6.03</td>\n",
       "      <td>287.2</td>\n",
       "      <td>4.9</td>\n",
       "      <td>D</td>\n",
       "      <td>0</td>\n",
       "    </tr>\n",
       "  </tbody>\n",
       "</table>\n",
       "</div>"
      ],
      "text/plain": [
       "   latitude  longitude  brightness  scan  track    acq_date  acq_time  \\\n",
       "0   40.4597    21.2015       302.7   1.7    1.3  2022-01-03       952   \n",
       "1   38.2790    23.4749       302.5   1.0    1.0  2022-01-03      1138   \n",
       "2   41.0305    23.3991       303.4   1.0    1.0  2022-01-03      1139   \n",
       "3   39.2542    20.5518       300.5   1.1    1.0  2022-01-03      1139   \n",
       "4   41.0996    23.3581       302.2   1.0    1.0  2022-01-03      1139   \n",
       "\n",
       "  satellite instrument  confidence  version  bright_t31   frp daynight  type  \n",
       "0     Terra      MODIS          53     6.03       284.7  14.6        D     0  \n",
       "1      Aqua      MODIS          53     6.03       288.9   5.7        D     0  \n",
       "2      Aqua      MODIS          56     6.03       286.5   6.8        D     0  \n",
       "3      Aqua      MODIS          37     6.03       288.6   4.5        D     0  \n",
       "4      Aqua      MODIS          38     6.03       287.2   4.9        D     0  "
      ]
     },
     "execution_count": 10,
     "metadata": {},
     "output_type": "execute_result"
    }
   ],
   "source": [
    "df_22 = pd.read_csv('Data/modis_2022_Greece.csv')\n",
    "df_22.head()"
   ]
  },
  {
   "cell_type": "code",
   "execution_count": 11,
   "id": "ba29227f",
   "metadata": {},
   "outputs": [
    {
     "data": {
      "text/plain": [
       "transaction_limit             1000\n",
       "current_transactions             0\n",
       "transaction_interval    10 minutes\n",
       "dtype: object"
      ]
     },
     "metadata": {},
     "output_type": "display_data"
    }
   ],
   "source": [
    "# Let's set your map key that was emailed to you. It should look something like 'abcdef1234567890abcdef1234567890'\n",
    "MAP_KEY = '65ce9bff2b7bc40c2f3c9fe1a23d0320'\n",
    "#MAP_KEY = 'abcdef1234567890abcdef1234567890'\n",
    "\n",
    "# now let's check how many transactions there are\n",
    "import pandas as pd\n",
    "url = 'https://firms.modaps.eosdis.nasa.gov/mapserver/mapkey_status/?MAP_KEY=' + MAP_KEY\n",
    "try:\n",
    "  df = pd.read_json(url,  typ='series')\n",
    "  display(df)\n",
    "except:\n",
    "  # possible error, wrong MAP_KEY value, check for extra quotes, missing letters\n",
    "  print (\"There is an issue with the query. \\nTry in your browser: %s\" % url)"
   ]
  },
  {
   "cell_type": "code",
   "execution_count": 18,
   "id": "6cba2046",
   "metadata": {},
   "outputs": [
    {
     "data": {
      "text/html": [
       "<div>\n",
       "<style scoped>\n",
       "    .dataframe tbody tr th:only-of-type {\n",
       "        vertical-align: middle;\n",
       "    }\n",
       "\n",
       "    .dataframe tbody tr th {\n",
       "        vertical-align: top;\n",
       "    }\n",
       "\n",
       "    .dataframe thead th {\n",
       "        text-align: right;\n",
       "    }\n",
       "</style>\n",
       "<table border=\"1\" class=\"dataframe\">\n",
       "  <thead>\n",
       "    <tr style=\"text-align: right;\">\n",
       "      <th></th>\n",
       "      <th>id</th>\n",
       "      <th>abreviation</th>\n",
       "      <th>name</th>\n",
       "      <th>extent</th>\n",
       "    </tr>\n",
       "  </thead>\n",
       "  <tbody>\n",
       "    <tr>\n",
       "      <th>0</th>\n",
       "      <td>1</td>\n",
       "      <td>ABW</td>\n",
       "      <td>Aruba</td>\n",
       "      <td>BOX(-70.0624080069999 12.417669989,-69.8768204...</td>\n",
       "    </tr>\n",
       "    <tr>\n",
       "      <th>1</th>\n",
       "      <td>2</td>\n",
       "      <td>AFG</td>\n",
       "      <td>Afghanistan</td>\n",
       "      <td>BOX(60.4867777910001 29.3866053260001,74.89230...</td>\n",
       "    </tr>\n",
       "    <tr>\n",
       "      <th>2</th>\n",
       "      <td>3</td>\n",
       "      <td>AGO</td>\n",
       "      <td>Angola</td>\n",
       "      <td>BOX(11.6693941430001 -18.0314047239998,24.0617...</td>\n",
       "    </tr>\n",
       "    <tr>\n",
       "      <th>3</th>\n",
       "      <td>4</td>\n",
       "      <td>AIA</td>\n",
       "      <td>Anguilla</td>\n",
       "      <td>BOX(-63.4288223949999 18.1690941430001,-62.972...</td>\n",
       "    </tr>\n",
       "    <tr>\n",
       "      <th>4</th>\n",
       "      <td>6</td>\n",
       "      <td>ALA</td>\n",
       "      <td>Aland Islands</td>\n",
       "      <td>BOX(19.5131942070001 59.9044863950001,21.09669...</td>\n",
       "    </tr>\n",
       "  </tbody>\n",
       "</table>\n",
       "</div>"
      ],
      "text/plain": [
       "   id abreviation           name  \\\n",
       "0   1         ABW          Aruba   \n",
       "1   2         AFG    Afghanistan   \n",
       "2   3         AGO         Angola   \n",
       "3   4         AIA       Anguilla   \n",
       "4   6         ALA  Aland Islands   \n",
       "\n",
       "                                              extent  \n",
       "0  BOX(-70.0624080069999 12.417669989,-69.8768204...  \n",
       "1  BOX(60.4867777910001 29.3866053260001,74.89230...  \n",
       "2  BOX(11.6693941430001 -18.0314047239998,24.0617...  \n",
       "3  BOX(-63.4288223949999 18.1690941430001,-62.972...  \n",
       "4  BOX(19.5131942070001 59.9044863950001,21.09669...  "
      ]
     },
     "execution_count": 18,
     "metadata": {},
     "output_type": "execute_result"
    }
   ],
   "source": [
    "# We can also focus on smaller area ex. South Asia and get last 3 days of records\n",
    "countries_url = 'https://firms.modaps.eosdis.nasa.gov/api/countries'\n",
    "df_countries = pd.read_csv(countries_url, sep=';')\n",
    "df_countries.head()"
   ]
  },
  {
   "cell_type": "code",
   "execution_count": 19,
   "id": "2a72eae9",
   "metadata": {},
   "outputs": [
    {
     "name": "stdout",
     "output_type": "stream",
     "text": [
      "    id abreviation    name                                             extent\n",
      "84  83         GRC  Greece  BOX(19.6264754570001 34.8150088560001,28.23975...\n"
     ]
    }
   ],
   "source": [
    "print(df_countries[df_countries['name'] == 'Greece'])"
   ]
  },
  {
   "cell_type": "code",
   "execution_count": 36,
   "id": "b4ff546a",
   "metadata": {
    "scrolled": false
   },
   "outputs": [
    {
     "data": {
      "text/html": [
       "<div>\n",
       "<style scoped>\n",
       "    .dataframe tbody tr th:only-of-type {\n",
       "        vertical-align: middle;\n",
       "    }\n",
       "\n",
       "    .dataframe tbody tr th {\n",
       "        vertical-align: top;\n",
       "    }\n",
       "\n",
       "    .dataframe thead th {\n",
       "        text-align: right;\n",
       "    }\n",
       "</style>\n",
       "<table border=\"1\" class=\"dataframe\">\n",
       "  <thead>\n",
       "    <tr style=\"text-align: right;\">\n",
       "      <th></th>\n",
       "      <th>country_id</th>\n",
       "      <th>latitude</th>\n",
       "      <th>longitude</th>\n",
       "      <th>brightness</th>\n",
       "      <th>scan</th>\n",
       "      <th>track</th>\n",
       "      <th>acq_date</th>\n",
       "      <th>acq_time</th>\n",
       "      <th>satellite</th>\n",
       "      <th>instrument</th>\n",
       "      <th>confidence</th>\n",
       "      <th>version</th>\n",
       "      <th>bright_t31</th>\n",
       "      <th>frp</th>\n",
       "      <th>daynight</th>\n",
       "      <th>type</th>\n",
       "    </tr>\n",
       "  </thead>\n",
       "  <tbody>\n",
       "    <tr>\n",
       "      <th>0</th>\n",
       "      <td>GRC</td>\n",
       "      <td>41.1108</td>\n",
       "      <td>24.1130</td>\n",
       "      <td>315.2</td>\n",
       "      <td>1.3</td>\n",
       "      <td>1.1</td>\n",
       "      <td>2020-08-20</td>\n",
       "      <td>939</td>\n",
       "      <td>Terra</td>\n",
       "      <td>MODIS</td>\n",
       "      <td>61</td>\n",
       "      <td>6.03</td>\n",
       "      <td>300.0</td>\n",
       "      <td>7.8</td>\n",
       "      <td>D</td>\n",
       "      <td>0</td>\n",
       "    </tr>\n",
       "    <tr>\n",
       "      <th>1</th>\n",
       "      <td>GRC</td>\n",
       "      <td>38.4532</td>\n",
       "      <td>23.5591</td>\n",
       "      <td>318.4</td>\n",
       "      <td>1.4</td>\n",
       "      <td>1.2</td>\n",
       "      <td>2020-08-20</td>\n",
       "      <td>940</td>\n",
       "      <td>Terra</td>\n",
       "      <td>MODIS</td>\n",
       "      <td>36</td>\n",
       "      <td>6.03</td>\n",
       "      <td>302.6</td>\n",
       "      <td>11.3</td>\n",
       "      <td>D</td>\n",
       "      <td>0</td>\n",
       "    </tr>\n",
       "    <tr>\n",
       "      <th>2</th>\n",
       "      <td>GRC</td>\n",
       "      <td>40.7247</td>\n",
       "      <td>22.7979</td>\n",
       "      <td>328.0</td>\n",
       "      <td>1.2</td>\n",
       "      <td>1.1</td>\n",
       "      <td>2020-08-20</td>\n",
       "      <td>940</td>\n",
       "      <td>Terra</td>\n",
       "      <td>MODIS</td>\n",
       "      <td>82</td>\n",
       "      <td>6.03</td>\n",
       "      <td>304.1</td>\n",
       "      <td>21.0</td>\n",
       "      <td>D</td>\n",
       "      <td>0</td>\n",
       "    </tr>\n",
       "    <tr>\n",
       "      <th>3</th>\n",
       "      <td>GRC</td>\n",
       "      <td>37.9082</td>\n",
       "      <td>22.0466</td>\n",
       "      <td>326.6</td>\n",
       "      <td>3.2</td>\n",
       "      <td>1.7</td>\n",
       "      <td>2020-08-21</td>\n",
       "      <td>845</td>\n",
       "      <td>Terra</td>\n",
       "      <td>MODIS</td>\n",
       "      <td>80</td>\n",
       "      <td>6.03</td>\n",
       "      <td>302.2</td>\n",
       "      <td>94.0</td>\n",
       "      <td>D</td>\n",
       "      <td>0</td>\n",
       "    </tr>\n",
       "    <tr>\n",
       "      <th>4</th>\n",
       "      <td>GRC</td>\n",
       "      <td>40.9008</td>\n",
       "      <td>21.4905</td>\n",
       "      <td>317.8</td>\n",
       "      <td>1.5</td>\n",
       "      <td>1.2</td>\n",
       "      <td>2020-08-21</td>\n",
       "      <td>1203</td>\n",
       "      <td>Aqua</td>\n",
       "      <td>MODIS</td>\n",
       "      <td>52</td>\n",
       "      <td>6.03</td>\n",
       "      <td>302.0</td>\n",
       "      <td>9.6</td>\n",
       "      <td>D</td>\n",
       "      <td>0</td>\n",
       "    </tr>\n",
       "  </tbody>\n",
       "</table>\n",
       "</div>"
      ],
      "text/plain": [
       "  country_id  latitude  longitude  brightness  scan  track    acq_date  \\\n",
       "0        GRC   41.1108    24.1130       315.2   1.3    1.1  2020-08-20   \n",
       "1        GRC   38.4532    23.5591       318.4   1.4    1.2  2020-08-20   \n",
       "2        GRC   40.7247    22.7979       328.0   1.2    1.1  2020-08-20   \n",
       "3        GRC   37.9082    22.0466       326.6   3.2    1.7  2020-08-21   \n",
       "4        GRC   40.9008    21.4905       317.8   1.5    1.2  2020-08-21   \n",
       "\n",
       "   acq_time satellite instrument  confidence  version  bright_t31   frp  \\\n",
       "0       939     Terra      MODIS          61     6.03       300.0   7.8   \n",
       "1       940     Terra      MODIS          36     6.03       302.6  11.3   \n",
       "2       940     Terra      MODIS          82     6.03       304.1  21.0   \n",
       "3       845     Terra      MODIS          80     6.03       302.2  94.0   \n",
       "4      1203      Aqua      MODIS          52     6.03       302.0   9.6   \n",
       "\n",
       "  daynight  type  \n",
       "0        D     0  \n",
       "1        D     0  \n",
       "2        D     0  \n",
       "3        D     0  \n",
       "4        D     0  "
      ]
     },
     "execution_count": 36,
     "metadata": {},
     "output_type": "execute_result"
    }
   ],
   "source": [
    "greece_url = 'https://firms.modaps.eosdis.nasa.gov/api/country/csv/' + MAP_KEY + '/MODIS_SP/GRC/10/2020-08-20'\n",
    "df_greece = pd.read_csv(greece_url)\n",
    "df_greece.head()\n"
   ]
  },
  {
   "cell_type": "code",
   "execution_count": 44,
   "id": "369962d6",
   "metadata": {},
   "outputs": [
    {
     "data": {
      "text/plain": [
       "MODIS    48\n",
       "Name: instrument, dtype: int64"
      ]
     },
     "execution_count": 44,
     "metadata": {},
     "output_type": "execute_result"
    }
   ],
   "source": [
    "df_greece['instrument'].value_counts()"
   ]
  },
  {
   "cell_type": "code",
   "execution_count": 52,
   "id": "6f6a59eb",
   "metadata": {},
   "outputs": [
    {
     "name": "stdout",
     "output_type": "stream",
     "text": [
      "8.373196408228978e-05\n",
      "0.0001107102850710362\n",
      "8.124232476802717e-05\n",
      "8.24929443297151e-05\n",
      "8.084223236437538e-05\n",
      "0.0001531936331957695\n",
      "0.00015143810776407918\n",
      "0.00015100671134860022\n",
      "0.00015060197881666681\n",
      "0.00014931022349173872\n",
      "0.00014891633213665045\n",
      "0.0001485019961364742\n",
      "0.00015599735968407913\n",
      "0.0001546941552987846\n",
      "0.00015411483752814092\n",
      "0.000152897672819563\n",
      "0.00015275020336957823\n",
      "0.0001515584651770041\n",
      "0.00015139002891828568\n",
      "0.00015100671134860022\n",
      "0.00014977685702888266\n",
      "0.00014963649800847634\n",
      "0.00014845613077341113\n",
      "0.00015250517390086316\n",
      "0.00015022342677184497\n",
      "0.00014933347199530544\n",
      "0.00014815883901064808\n",
      "0.0001472755518534541\n",
      "0.00014689451336380444\n",
      "0.00014539404378410836\n",
      "0.00014504640603263397\n",
      "0.00014854789583296224\n",
      "0.00015530420182585658\n",
      "0.0001536650414664109\n",
      "0.0001527993222225632\n",
      "0.00015117412613108172\n",
      "0.00015001149472482211\n",
      "0.00014838739684819302\n",
      "0.00014750081663805759\n",
      "0.0001457656492220849\n",
      "8.981804273844318e-05\n",
      "8.991493666599126e-05\n",
      "8.609470478404546e-05\n",
      "8.07205128694477e-05\n",
      "8.112789157621592e-05\n",
      "8.120961854274356e-05\n",
      "0.0004303987749381122\n",
      "0.00043472685342749173\n"
     ]
    }
   ],
   "source": [
    "#Calculation of a fire footprint \n",
    "for index, row in df_greece.iterrows():\n",
    "    latitude = row['latitude']\n",
    "    longitude = row['longitude']\n",
    "    sensor = row['instrument']\n",
    "    \n",
    "    coef = 0.375 # VIIRS\n",
    "    if sensor == 'MODIS':\n",
    "        coef = 1.0\n",
    "    elif sensor == 'LANDSAT':\n",
    "        coef = 0.03\n",
    "\n",
    "\n",
    "    if abs(latitude) <= 89.99:\n",
    "         dx = coef / ( math.cos(latitude) * 111.32 ) / 2.0 # if cos() using degrees\n",
    "    else:\n",
    "         dx = 180\n",
    "\n",
    "    dy = ( coef / 111.32 ) / 2.0\n",
    "\n",
    "    north_west = ( latitude + dy, longitude - dx )\n",
    "    north_east = ( latitude + dy, longitude + dx )\n",
    "    south_east = ( latitude - dy, longitude + dx )\n",
    "    south_west = ( latitude - dy, longitude - dx )\n",
    "    \n",
    "    vertices = [north_west, north_east, south_east, south_west]\n",
    "    \n",
    "    def calculate_area(vertices):\n",
    "        n = len(vertices)\n",
    "        area = 0\n",
    "        for i in range(n):\n",
    "            j = (i + 1) % n\n",
    "            area += vertices[i][0] * vertices[j][1]\n",
    "            area -= vertices[j][0] * vertices[i][1]\n",
    "        area = abs(area) / 2\n",
    "        return area\n",
    "    print(calculate_area(vertices))"
   ]
  },
  {
   "cell_type": "code",
   "execution_count": null,
   "id": "45fd9f4e",
   "metadata": {},
   "outputs": [],
   "source": []
  }
 ],
 "metadata": {
  "kernelspec": {
   "display_name": "Python 3 (ipykernel)",
   "language": "python",
   "name": "python3"
  },
  "language_info": {
   "codemirror_mode": {
    "name": "ipython",
    "version": 3
   },
   "file_extension": ".py",
   "mimetype": "text/x-python",
   "name": "python",
   "nbconvert_exporter": "python",
   "pygments_lexer": "ipython3",
   "version": "3.11.1"
  }
 },
 "nbformat": 4,
 "nbformat_minor": 5
}
